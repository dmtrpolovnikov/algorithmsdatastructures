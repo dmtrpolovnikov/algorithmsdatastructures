{
 "cells": [
  {
   "cell_type": "code",
   "execution_count": null,
   "id": "9731da53-7855-47c4-82a4-a754bf572de3",
   "metadata": {},
   "outputs": [],
   "source": [
    "# implement a microstructure alpha\n",
    "# and calculate its element-wise and asymptotic calculation complexity\n",
    "\n",
    "# mah super profitable microstructure alpha\n",
    "''' \n",
    "    alpha = [ ask_vwap(20) - mid_price_vwap(10,10) ] / [ ask_vwap(20) - bid_vwap(20) ]\n",
    "    ask_vwap(n) = volume weighted ask prices from n levels into depth, the same for bid\n",
    "    mid_price_vwap(n, m) = volume weighted price of n ask levels and m bid levels\n",
    "'''\n",
    "# physical meaning: if there's significant volume imbalance we get a strong signal\n",
    "# indicating implied direction of the next price movements\n",
    "\n",
    "# complexity\n",
    "'''\n",
    "    O(ask_vwap(m)) = sum(price_i * volume_i)_{i=1,..,m} / sum(volume_i) = 2m (m times multiplicate + m summarize) + m (vol summation) + 1 division  \n",
    "    O(ask_vwap(m)) + O(mid_price_vwap(m,n)) + O(bid_vwap(m)) = 3m + O(1) + 3m + O(1) + 3m + O(1) = O(9m) + O(3)\n",
    "    + 2subtract + division : 3 operations with scalars = O(3)\n",
    "    => for one snapshot of LOB alpha complexity O(alpha) = O(9m) + O(3) + O(3)\n",
    "    asymptotic (we have N -> inf snapshots of LOB) : O(alpha) = O(9mN) + O(6N) ~ O(kN)\n",
    "'''"
   ]
  }
 ],
 "metadata": {
  "kernelspec": {
   "display_name": "Python 3 (ipykernel)",
   "language": "python",
   "name": "python3"
  },
  "language_info": {
   "codemirror_mode": {
    "name": "ipython",
    "version": 3
   },
   "file_extension": ".py",
   "mimetype": "text/x-python",
   "name": "python",
   "nbconvert_exporter": "python",
   "pygments_lexer": "ipython3",
   "version": "3.11.5"
  }
 },
 "nbformat": 4,
 "nbformat_minor": 5
}
